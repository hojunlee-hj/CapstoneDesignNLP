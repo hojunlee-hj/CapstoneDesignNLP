{
 "cells": [
  {
   "cell_type": "markdown",
   "id": "96c083ad",
   "metadata": {},
   "source": [
    "# 초기 학습 모델 \n",
    "- 텍스트 전처리<br/>\n",
    "(1) 정규표현식을 활용한 전처리 (2) Tokenizing 문법적 의미가 있는 최소 단위인 토큰으로 분리 (3) Stemming, 어간 추출 (4) 불용어 제거 (5) 형태소 분석\n",
    "\n",
    "\n",
    "- 단어 빈도수를 기반으로, 문서를 벡터로 표현하는 방법<br/>\n",
    "(1) Bag of Words 모델 (2) N-gram 모델 **(3) TF-IDF**\n",
    "\n",
    "\n",
    "- **머신러닝 기반의 학습 모델**<br/>\n",
    "(1) 로지스틱 회귀 모델 (2) 트리 모델 \n",
    "  \n",
    "\n",
    "- 딥러닝 기반의 학습 모델<br/>\n",
    "뉴럴 네트워크 모델 - RNN, LSTM, GRU 등등\n",
    "\n"
   ]
  },
  {
   "cell_type": "markdown",
   "id": "2b785beb",
   "metadata": {},
   "source": [
    "## 1. 데이터셋 로드"
   ]
  },
  {
   "cell_type": "code",
   "execution_count": 30,
   "id": "6602313c",
   "metadata": {},
   "outputs": [],
   "source": [
    "import numpy as np\n",
    "import pandas as pd\n",
    "\n",
    "dataset = pd.read_csv('./Dataset_Hojun_Seojin.csv', index_col = 'id')\n",
    "\n",
    "# 현재 0~7000, 7000 ~ 8000, 14001~ 까지 라벨링됨\n",
    "valid_class = ['0', '1', '2', '3', '4', '5']\n",
    "df_labeled = pd.merge(dataset.iloc[0:8001], dataset.iloc[14001:], how='outer')\n",
    "df_positive = df_labeled[(df_labeled[\"label\"] == 1) & (df_labeled[\"label2\"] == '-1')]\n",
    "df_negative = df_labeled[(df_labeled[\"label\"] == 0) & (df_labeled[\"label2\"].isin(valid_class))]"
   ]
  },
  {
   "cell_type": "code",
   "execution_count": 156,
   "id": "20a1bc2b",
   "metadata": {},
   "outputs": [],
   "source": [
    "import matplotlib.pyplot as plt\n",
    "from matplotlib import rc\n",
    "%matplotlib inline\n",
    "\n",
    "rc('font', family='AppleGothic')\n",
    "plt.rcParams['axes.unicode_minus'] = False"
   ]
  },
  {
   "cell_type": "code",
   "execution_count": 31,
   "id": "72182066",
   "metadata": {},
   "outputs": [
    {
     "data": {
      "text/html": [
       "<div>\n",
       "<style scoped>\n",
       "    .dataframe tbody tr th:only-of-type {\n",
       "        vertical-align: middle;\n",
       "    }\n",
       "\n",
       "    .dataframe tbody tr th {\n",
       "        vertical-align: top;\n",
       "    }\n",
       "\n",
       "    .dataframe thead th {\n",
       "        text-align: right;\n",
       "    }\n",
       "</style>\n",
       "<table border=\"1\" class=\"dataframe\">\n",
       "  <thead>\n",
       "    <tr style=\"text-align: right;\">\n",
       "      <th></th>\n",
       "      <th>document</th>\n",
       "      <th>label</th>\n",
       "      <th>label2</th>\n",
       "    </tr>\n",
       "  </thead>\n",
       "  <tbody>\n",
       "    <tr>\n",
       "      <th>0</th>\n",
       "      <td>몇년간 잘만 쓰고 있었는데요</td>\n",
       "      <td>0</td>\n",
       "      <td>0</td>\n",
       "    </tr>\n",
       "    <tr>\n",
       "      <th>1</th>\n",
       "      <td>최근 업뎃이후로 너무 불편해서 리뷰를 다 써보러 와요</td>\n",
       "      <td>0</td>\n",
       "      <td>0</td>\n",
       "    </tr>\n",
       "    <tr>\n",
       "      <th>2</th>\n",
       "      <td>업뎃후 적응이야 늘 하는거지만 적당히 바껴야되는데</td>\n",
       "      <td>0</td>\n",
       "      <td>3</td>\n",
       "    </tr>\n",
       "    <tr>\n",
       "      <th>3</th>\n",
       "      <td>대체 좋아요 랑 댓글 위치까진ㅋㅋㅋㅋㅋ왜 바꾸는건짘ㅋㅋㅋㅠㅠ너무 자주 바뀌는 설정들...</td>\n",
       "      <td>0</td>\n",
       "      <td>0</td>\n",
       "    </tr>\n",
       "    <tr>\n",
       "      <th>4</th>\n",
       "      <td>군대 전역전까지 메롱쓰다가 년 전역후부터 지니뮤직으로 갈아탄후 계속 사용하고있는 유...</td>\n",
       "      <td>0</td>\n",
       "      <td>3</td>\n",
       "    </tr>\n",
       "    <tr>\n",
       "      <th>...</th>\n",
       "      <td>...</td>\n",
       "      <td>...</td>\n",
       "      <td>...</td>\n",
       "    </tr>\n",
       "    <tr>\n",
       "      <th>16092</th>\n",
       "      <td>그리고 한시간전에 리뷰남겼는데 맘대로 삭제가 됐네요</td>\n",
       "      <td>0</td>\n",
       "      <td>2</td>\n",
       "    </tr>\n",
       "    <tr>\n",
       "      <th>16093</th>\n",
       "      <td>아니 왜 포인트에 관한게 하나도 안뜨냐 인터넷이랑 공지사항보고 하란대로 다했는데 포...</td>\n",
       "      <td>0</td>\n",
       "      <td>2</td>\n",
       "    </tr>\n",
       "    <tr>\n",
       "      <th>16094</th>\n",
       "      <td>기가지니에서는 끊기네요</td>\n",
       "      <td>0</td>\n",
       "      <td>1</td>\n",
       "    </tr>\n",
       "    <tr>\n",
       "      <th>16095</th>\n",
       "      <td>이제는 노래 재생도 안된다</td>\n",
       "      <td>0</td>\n",
       "      <td>4</td>\n",
       "    </tr>\n",
       "    <tr>\n",
       "      <th>16096</th>\n",
       "      <td>패드에서는 음질이 안 좋아요</td>\n",
       "      <td>0</td>\n",
       "      <td>1</td>\n",
       "    </tr>\n",
       "  </tbody>\n",
       "</table>\n",
       "<p>16097 rows × 3 columns</p>\n",
       "</div>"
      ],
      "text/plain": [
       "                                                document  label label2\n",
       "0                                        몇년간 잘만 쓰고 있었는데요      0      0\n",
       "1                         최근 업뎃이후로 너무 불편해서 리뷰를 다 써보러 와요       0      0\n",
       "2                           업뎃후 적응이야 늘 하는거지만 적당히 바껴야되는데       0      3\n",
       "3      대체 좋아요 랑 댓글 위치까진ㅋㅋㅋㅋㅋ왜 바꾸는건짘ㅋㅋㅋㅠㅠ너무 자주 바뀌는 설정들...      0      0\n",
       "4      군대 전역전까지 메롱쓰다가 년 전역후부터 지니뮤직으로 갈아탄후 계속 사용하고있는 유...      0      3\n",
       "...                                                  ...    ...    ...\n",
       "16092                       그리고 한시간전에 리뷰남겼는데 맘대로 삭제가 됐네요      0      2\n",
       "16093  아니 왜 포인트에 관한게 하나도 안뜨냐 인터넷이랑 공지사항보고 하란대로 다했는데 포...      0      2\n",
       "16094                                       기가지니에서는 끊기네요      0      1\n",
       "16095                                     이제는 노래 재생도 안된다      0      4\n",
       "16096                                    패드에서는 음질이 안 좋아요      0      1\n",
       "\n",
       "[16097 rows x 3 columns]"
      ]
     },
     "execution_count": 31,
     "metadata": {},
     "output_type": "execute_result"
    }
   ],
   "source": [
    "df_labeled"
   ]
  },
  {
   "cell_type": "code",
   "execution_count": 32,
   "id": "644ca649",
   "metadata": {},
   "outputs": [
    {
     "data": {
      "text/html": [
       "<div>\n",
       "<style scoped>\n",
       "    .dataframe tbody tr th:only-of-type {\n",
       "        vertical-align: middle;\n",
       "    }\n",
       "\n",
       "    .dataframe tbody tr th {\n",
       "        vertical-align: top;\n",
       "    }\n",
       "\n",
       "    .dataframe thead th {\n",
       "        text-align: right;\n",
       "    }\n",
       "</style>\n",
       "<table border=\"1\" class=\"dataframe\">\n",
       "  <thead>\n",
       "    <tr style=\"text-align: right;\">\n",
       "      <th></th>\n",
       "      <th>document</th>\n",
       "      <th>label</th>\n",
       "      <th>label2</th>\n",
       "    </tr>\n",
       "  </thead>\n",
       "  <tbody>\n",
       "    <tr>\n",
       "      <th>20</th>\n",
       "      <td>그래도 좋은 앱 만들어주셔서 감사합니다</td>\n",
       "      <td>1</td>\n",
       "      <td>-1</td>\n",
       "    </tr>\n",
       "    <tr>\n",
       "      <th>24</th>\n",
       "      <td>너무 좋네요</td>\n",
       "      <td>1</td>\n",
       "      <td>-1</td>\n",
       "    </tr>\n",
       "    <tr>\n",
       "      <th>25</th>\n",
       "      <td>이번 업데이트 아주 맘에 들어요 ㅠ</td>\n",
       "      <td>1</td>\n",
       "      <td>-1</td>\n",
       "    </tr>\n",
       "    <tr>\n",
       "      <th>26</th>\n",
       "      <td>그동안 플레이리스트 편집하려면 너무 귀찮았고 새 곡 추가해도 앨범 다시 열어줘야 했...</td>\n",
       "      <td>1</td>\n",
       "      <td>-1</td>\n",
       "    </tr>\n",
       "    <tr>\n",
       "      <th>27</th>\n",
       "      <td>진짜 최고 편해요 ㅠㅠ</td>\n",
       "      <td>1</td>\n",
       "      <td>-1</td>\n",
       "    </tr>\n",
       "    <tr>\n",
       "      <th>...</th>\n",
       "      <td>...</td>\n",
       "      <td>...</td>\n",
       "      <td>...</td>\n",
       "    </tr>\n",
       "    <tr>\n",
       "      <th>16027</th>\n",
       "      <td>지니 뮤직으로 음악 잘 듣고 있습니다</td>\n",
       "      <td>1</td>\n",
       "      <td>-1</td>\n",
       "    </tr>\n",
       "    <tr>\n",
       "      <th>16041</th>\n",
       "      <td>음악을 검색하면 바로 음악을 들을 수 있어서 좋아요</td>\n",
       "      <td>1</td>\n",
       "      <td>-1</td>\n",
       "    </tr>\n",
       "    <tr>\n",
       "      <th>16042</th>\n",
       "      <td>업데이트 한 후 기타 미디어 재생 시 노래가 끊기지 않음</td>\n",
       "      <td>1</td>\n",
       "      <td>-1</td>\n",
       "    </tr>\n",
       "    <tr>\n",
       "      <th>16083</th>\n",
       "      <td>노래 잘듣고있습니다</td>\n",
       "      <td>1</td>\n",
       "      <td>-1</td>\n",
       "    </tr>\n",
       "    <tr>\n",
       "      <th>16084</th>\n",
       "      <td>아기 나이가 세 살 미만이라서 2분밖에 못듣지만 잘 쓰고있습니다ㅎㅎ</td>\n",
       "      <td>1</td>\n",
       "      <td>-1</td>\n",
       "    </tr>\n",
       "  </tbody>\n",
       "</table>\n",
       "<p>1420 rows × 3 columns</p>\n",
       "</div>"
      ],
      "text/plain": [
       "                                                document  label label2\n",
       "20                                 그래도 좋은 앱 만들어주셔서 감사합니다      1     -1\n",
       "24                                                너무 좋네요      1     -1\n",
       "25                                   이번 업데이트 아주 맘에 들어요 ㅠ      1     -1\n",
       "26     그동안 플레이리스트 편집하려면 너무 귀찮았고 새 곡 추가해도 앨범 다시 열어줘야 했...      1     -1\n",
       "27                                          진짜 최고 편해요 ㅠㅠ      1     -1\n",
       "...                                                  ...    ...    ...\n",
       "16027                               지니 뮤직으로 음악 잘 듣고 있습니다      1     -1\n",
       "16041                       음악을 검색하면 바로 음악을 들을 수 있어서 좋아요      1     -1\n",
       "16042                    업데이트 한 후 기타 미디어 재생 시 노래가 끊기지 않음      1     -1\n",
       "16083                                         노래 잘듣고있습니다      1     -1\n",
       "16084              아기 나이가 세 살 미만이라서 2분밖에 못듣지만 잘 쓰고있습니다ㅎㅎ      1     -1\n",
       "\n",
       "[1420 rows x 3 columns]"
      ]
     },
     "execution_count": 32,
     "metadata": {},
     "output_type": "execute_result"
    }
   ],
   "source": [
    "df_positive"
   ]
  },
  {
   "cell_type": "code",
   "execution_count": 33,
   "id": "e744396f",
   "metadata": {},
   "outputs": [
    {
     "data": {
      "text/html": [
       "<div>\n",
       "<style scoped>\n",
       "    .dataframe tbody tr th:only-of-type {\n",
       "        vertical-align: middle;\n",
       "    }\n",
       "\n",
       "    .dataframe tbody tr th {\n",
       "        vertical-align: top;\n",
       "    }\n",
       "\n",
       "    .dataframe thead th {\n",
       "        text-align: right;\n",
       "    }\n",
       "</style>\n",
       "<table border=\"1\" class=\"dataframe\">\n",
       "  <thead>\n",
       "    <tr style=\"text-align: right;\">\n",
       "      <th></th>\n",
       "      <th>document</th>\n",
       "      <th>label</th>\n",
       "      <th>label2</th>\n",
       "    </tr>\n",
       "  </thead>\n",
       "  <tbody>\n",
       "    <tr>\n",
       "      <th>0</th>\n",
       "      <td>몇년간 잘만 쓰고 있었는데요</td>\n",
       "      <td>0</td>\n",
       "      <td>0</td>\n",
       "    </tr>\n",
       "    <tr>\n",
       "      <th>1</th>\n",
       "      <td>최근 업뎃이후로 너무 불편해서 리뷰를 다 써보러 와요</td>\n",
       "      <td>0</td>\n",
       "      <td>0</td>\n",
       "    </tr>\n",
       "    <tr>\n",
       "      <th>2</th>\n",
       "      <td>업뎃후 적응이야 늘 하는거지만 적당히 바껴야되는데</td>\n",
       "      <td>0</td>\n",
       "      <td>3</td>\n",
       "    </tr>\n",
       "    <tr>\n",
       "      <th>3</th>\n",
       "      <td>대체 좋아요 랑 댓글 위치까진ㅋㅋㅋㅋㅋ왜 바꾸는건짘ㅋㅋㅋㅠㅠ너무 자주 바뀌는 설정들...</td>\n",
       "      <td>0</td>\n",
       "      <td>0</td>\n",
       "    </tr>\n",
       "    <tr>\n",
       "      <th>4</th>\n",
       "      <td>군대 전역전까지 메롱쓰다가 년 전역후부터 지니뮤직으로 갈아탄후 계속 사용하고있는 유...</td>\n",
       "      <td>0</td>\n",
       "      <td>3</td>\n",
       "    </tr>\n",
       "    <tr>\n",
       "      <th>...</th>\n",
       "      <td>...</td>\n",
       "      <td>...</td>\n",
       "      <td>...</td>\n",
       "    </tr>\n",
       "    <tr>\n",
       "      <th>16092</th>\n",
       "      <td>그리고 한시간전에 리뷰남겼는데 맘대로 삭제가 됐네요</td>\n",
       "      <td>0</td>\n",
       "      <td>2</td>\n",
       "    </tr>\n",
       "    <tr>\n",
       "      <th>16093</th>\n",
       "      <td>아니 왜 포인트에 관한게 하나도 안뜨냐 인터넷이랑 공지사항보고 하란대로 다했는데 포...</td>\n",
       "      <td>0</td>\n",
       "      <td>2</td>\n",
       "    </tr>\n",
       "    <tr>\n",
       "      <th>16094</th>\n",
       "      <td>기가지니에서는 끊기네요</td>\n",
       "      <td>0</td>\n",
       "      <td>1</td>\n",
       "    </tr>\n",
       "    <tr>\n",
       "      <th>16095</th>\n",
       "      <td>이제는 노래 재생도 안된다</td>\n",
       "      <td>0</td>\n",
       "      <td>4</td>\n",
       "    </tr>\n",
       "    <tr>\n",
       "      <th>16096</th>\n",
       "      <td>패드에서는 음질이 안 좋아요</td>\n",
       "      <td>0</td>\n",
       "      <td>1</td>\n",
       "    </tr>\n",
       "  </tbody>\n",
       "</table>\n",
       "<p>14593 rows × 3 columns</p>\n",
       "</div>"
      ],
      "text/plain": [
       "                                                document  label label2\n",
       "0                                        몇년간 잘만 쓰고 있었는데요      0      0\n",
       "1                         최근 업뎃이후로 너무 불편해서 리뷰를 다 써보러 와요       0      0\n",
       "2                           업뎃후 적응이야 늘 하는거지만 적당히 바껴야되는데       0      3\n",
       "3      대체 좋아요 랑 댓글 위치까진ㅋㅋㅋㅋㅋ왜 바꾸는건짘ㅋㅋㅋㅠㅠ너무 자주 바뀌는 설정들...      0      0\n",
       "4      군대 전역전까지 메롱쓰다가 년 전역후부터 지니뮤직으로 갈아탄후 계속 사용하고있는 유...      0      3\n",
       "...                                                  ...    ...    ...\n",
       "16092                       그리고 한시간전에 리뷰남겼는데 맘대로 삭제가 됐네요      0      2\n",
       "16093  아니 왜 포인트에 관한게 하나도 안뜨냐 인터넷이랑 공지사항보고 하란대로 다했는데 포...      0      2\n",
       "16094                                       기가지니에서는 끊기네요      0      1\n",
       "16095                                     이제는 노래 재생도 안된다      0      4\n",
       "16096                                    패드에서는 음질이 안 좋아요      0      1\n",
       "\n",
       "[14593 rows x 3 columns]"
      ]
     },
     "execution_count": 33,
     "metadata": {},
     "output_type": "execute_result"
    }
   ],
   "source": [
    "df_negative"
   ]
  },
  {
   "cell_type": "markdown",
   "id": "56fd1b51",
   "metadata": {},
   "source": []
  },
  {
   "cell_type": "markdown",
   "id": "16a0f7f1",
   "metadata": {},
   "source": [
    "## 2. 텍스트 전처리"
   ]
  },
  {
   "cell_type": "markdown",
   "id": "4191f9c2",
   "metadata": {},
   "source": [
    "### 전처리 규칙 \n",
    "- 문자가 아닌 것들 제거\n",
    "- 한국어 특유의 반복되는 문자 제거"
   ]
  },
  {
   "cell_type": "code",
   "execution_count": 75,
   "id": "15534e04",
   "metadata": {},
   "outputs": [],
   "source": [
    "from konlpy.tag import Okt\n",
    "import re\n",
    "\n",
    "okt = Okt()\n",
    "stopwords_path = \"./stopwords-ko.txt\"\n",
    "\n",
    "def openStopwords(path:str)->list:\n",
    "    with open(path, 'r', encoding='utf-8') as f:\n",
    "        stopwords = f.readlines()\n",
    "    return [x.strip() for x in stopwords]\n",
    "    \n",
    "def preprocessor(text:str) -> str:\n",
    "    text = re.sub('[\\W]+', ' ', text)\n",
    "    text = re.sub('[ㅋ|ㅠ|ㅜ|ㅎ|ㅇ|ㅡ|ㅅ|ㅂ|!|?|.|,|;]+', ' ', text)\n",
    "    return text\n",
    "\n",
    "# Stemming\n",
    "def tokenizer_porter_kor(text):\n",
    "    \"\"\"\n",
    "        norm : If True, normalize tokens\n",
    "        stem : If True, stem tokens\n",
    "    \"\"\"\n",
    "    return okt.morphs(text, norm=True, stem=True)\n",
    "\n",
    "stopwords_ko = openStopwords(stopwords_path)\n",
    "stopwords_ko.append(\"지니\")"
   ]
  },
  {
   "cell_type": "code",
   "execution_count": null,
   "id": "cb7a20fe",
   "metadata": {},
   "outputs": [],
   "source": []
  },
  {
   "cell_type": "code",
   "execution_count": 65,
   "id": "aa12f30a",
   "metadata": {},
   "outputs": [
    {
     "name": "stdout",
     "output_type": "stream",
     "text": [
      "before : 대체 좋아요 랑 댓글 위치까진ㅋㅋㅋㅋㅋ왜 바꾸는건짘ㅋㅋㅋㅠㅠ너무 자주 바뀌는 설정들이 번거로운게 늘 해맵니다 \n",
      "after : 대체 좋아요 랑 댓글 위치까진 왜 바꾸는건짘 너무 자주 바뀌는 설정들이 번거로운게 늘 해맵니다 \n"
     ]
    }
   ],
   "source": [
    "print(f\"before : {df_negative.loc[3, 'document']}\")\n",
    "print(f\"after : {preprocessor(df_negative.loc[3, 'document'])}\")"
   ]
  },
  {
   "cell_type": "code",
   "execution_count": null,
   "id": "255107bd",
   "metadata": {},
   "outputs": [],
   "source": []
  },
  {
   "cell_type": "markdown",
   "id": "2865205a",
   "metadata": {},
   "source": [
    "### 단어 빈도수 기반의 벡터화 TF-IDF vectors"
   ]
  },
  {
   "cell_type": "code",
   "execution_count": 82,
   "id": "e947d17b",
   "metadata": {},
   "outputs": [
    {
     "name": "stderr",
     "output_type": "stream",
     "text": [
      "/opt/homebrew/Caskroom/miniforge/base/envs/junho_ML/lib/python3.8/site-packages/sklearn/feature_extraction/text.py:396: UserWarning: Your stop_words may be inconsistent with your preprocessing. Tokenizing the stop words generated tokens ['가다', '각하', '간', '갖다', '개', '거나', '거리', '걸', '겁', '것과', '견지', '결과', '결론', '고려', '곤', '곳', '공동', '관', '관계', '관련', '구체', '구토', '그러하다', '그런', '그렇게', '그렇다', '그치다', '근거', '기대', '기점', '기준', '김', '까닭', '나머지', '남', '낫다', '낼', '년도', '논', '누가', '는', '다', '다르다', '다시', '달다', '답', '대로', '대하', '대해', '더', '더불다', '더욱이', '도', '도달', '도착', '동시', '돼다', '되다', '되어다', '두번째', '뒤', '뒤따르다', '든', '든지', '들다', '듯', '따다', '따르다', '따름', '때문', '라', '라도', '라면', '리하', '마자', '막론', '만', '만으로', '만은', '만이', '만하', '많다', '말', '말다', '망정', '메', '면', '모르다', '몰랏다', '못', '무릎', '미치다', '바', '바꾸다', '밖에', '반대', '방면', '번째', '보다', '보아', '본대', '부류', '불구', '불문', '비', '비걱거리', '비교', '비기다', '비추다', '뿐', '사람', '상대', '생각', '서', '서술', '수', '시오', '시작', '시초', '쓰다', '쓰이다', '아니다', '아래', '아무', '아우르다', '안', '안다', '안되다', '않다', '알', '알다', '앞', '어기', '어떠하다', '어떻다', '어쨋', '어쩔', '없다', '에도', '에야', '여보', '여전하다', '연', '연관', '옆', '오다', '외', '요', '요만', '우', '울다', '위', '위해', '윗', '은', '의거', '의지', '의치', '의하다', '이다', '이러하다', '이렇게', '이렇다', '이로', '이르다', '이서', '이외', '이용', '이유', '인', '인하다', '일반', '일지', '임', '입', '입다', '입장', '잇따르다', '적', '점', '정도', '제외', '젠', '종합', '좋다', '주저', '줄', '중', '즈음', '지', '지경', '지다', '진짜', '집', '쪽', '차', '차다', '첫', '총', '켜다', '크다', '토', '통', '틀림없다', '틈타다', '편이', '하고', '하다', '하든', '하자', '한', '한적', '함', '항목', '해', '해도', '해보다', '향', '허다', '형식', '후', '힘'] not in stop_words.\n",
      "  warnings.warn(\n"
     ]
    }
   ],
   "source": [
    "# vectorize texts - TF-IDF Matrix\n",
    "from sklearn.feature_extraction.text import TfidfVectorizer\n",
    "\n",
    "tfidf = TfidfVectorizer(strip_accents=None,\n",
    "                       lowercase=False,\n",
    "                       preprocessor=preprocessor,           # 각 텍스트에 대한 전처리 함수\n",
    "                       tokenizer=tokenizer_porter_kor,      # 어간 추출\n",
    "                       stop_words=stopwords_ko,             # removing stopwords\n",
    "                       max_df=0.1,                          # 한 단어가 여러 문서에 등장하는 비율; 해당 비율 이상이면 무시\n",
    "                       min_df=10)                            # 한 단어가 적어도 min_df개의 문서에는 등장하라\n",
    "\n",
    "docs_vector = tfidf.fit_transform(df_negative['document'])\n"
   ]
  },
  {
   "cell_type": "code",
   "execution_count": 84,
   "id": "6bbcc58e",
   "metadata": {},
   "outputs": [],
   "source": [
    "# print(docs_vector)"
   ]
  },
  {
   "cell_type": "markdown",
   "id": "921c17dd",
   "metadata": {},
   "source": [
    "## 3. 머신러닝 기반 분류 모델 "
   ]
  },
  {
   "cell_type": "markdown",
   "id": "b1d9f6f2",
   "metadata": {},
   "source": [
    "### 훈련-검증 데이터셋 "
   ]
  },
  {
   "cell_type": "code",
   "execution_count": null,
   "id": "cc545860",
   "metadata": {},
   "outputs": [],
   "source": [
    "import numpy as np\n",
    "import pandas as pd\n",
    "\n",
    "dataset = pd.read_csv('./Dataset_Hojun_Seojin.csv', index_col = 'id')\n",
    "\n",
    "# 현재 0~7000, 7000 ~ 8000, 14001~ 까지 라벨링됨\n",
    "valid_class = ['0', '1', '2', '3', '4', '5']\n",
    "df_labeled = pd.merge(dataset.iloc[0:8001], dataset.iloc[14001:], how='outer')\n",
    "df_positive = df_labeled[(df_labeled[\"label\"] == 1) & (df_labeled[\"label2\"] == '-1')]\n",
    "df_negative = df_labeled[(df_labeled[\"label\"] == 0) & (df_labeled[\"label2\"].isin(valid_class))]"
   ]
  },
  {
   "cell_type": "markdown",
   "id": "7061f401",
   "metadata": {},
   "source": [
    "- test_size=0.3 : 훈련 데이터셋 70%, 검증 데이터셋 30%으로 분리\n",
    "- random_state=1 : 시드값 1로 고정\n",
    "- stratify=y : 전체 데이터셋에서 클래스 별 비율을 맞춰 분할"
   ]
  },
  {
   "cell_type": "code",
   "execution_count": 86,
   "id": "76bd5840",
   "metadata": {},
   "outputs": [],
   "source": [
    "from sklearn.model_selection import train_test_split\n",
    "\n",
    "X = df_negative[\"document\"]\n",
    "y = df_negative[\"label2\"]\n",
    "# 훈련 데이터셋 70% - 테스트 데이터셋 30% 분할, stratify = y\n",
    "X_train, X_test,  y_train, y_test = train_test_split(X, y, test_size=0.3, random_state=1, stratify=y)"
   ]
  },
  {
   "cell_type": "code",
   "execution_count": 100,
   "id": "ffa4e61b",
   "metadata": {},
   "outputs": [
    {
     "data": {
      "text/plain": [
       "7029             밤에 차량에서 운전중 노래곡이 넘어갈때마다 화면이 켜져서 운전이 불편합니다\n",
       "8295                                                     좀\n",
       "11480              결제한 상태인데도 자꾸 끊기고 결제하라고 떠서 노래를 들을 수가 없어요\n",
       "13110                                     트로트 차트 하나 만들어주세요\n",
       "5386                                   이 오류 좀 없애주세요 ㅠㅠㅠㅋㅋㅋ\n",
       "                               ...                        \n",
       "1313                                                개선해주세요\n",
       "8609                                 최근에 계속 지멋대로 실행푸시가 뜹니다\n",
       "13277          로그인 오류랑 네트워크 오류에 서버는 자주 터지고 노래를 듣는데 지장이 많네요\n",
       "13767    데이터 쓰고 와이파이 빵빵한데 네트워크가 원활하지 않다고 뜨고 노래 재생도 안되네요...\n",
       "2085             음원 마음대로 들을수도 있고ㅋ 근데 이게 간헐적으로 버퍼링이 경우가 있네요\n",
       "Name: document, Length: 10215, dtype: object"
      ]
     },
     "execution_count": 100,
     "metadata": {},
     "output_type": "execute_result"
    }
   ],
   "source": [
    "X_train"
   ]
  },
  {
   "cell_type": "code",
   "execution_count": 101,
   "id": "fab394e8",
   "metadata": {},
   "outputs": [
    {
     "data": {
      "text/plain": [
       "7029     3\n",
       "8295     0\n",
       "11480    2\n",
       "13110    0\n",
       "5386     2\n",
       "        ..\n",
       "1313     3\n",
       "8609     2\n",
       "13277    2\n",
       "13767    2\n",
       "2085     2\n",
       "Name: label2, Length: 10215, dtype: object"
      ]
     },
     "execution_count": 101,
     "metadata": {},
     "output_type": "execute_result"
    }
   ],
   "source": [
    "y_train"
   ]
  },
  {
   "cell_type": "code",
   "execution_count": 98,
   "id": "ce6a6689",
   "metadata": {},
   "outputs": [
    {
     "data": {
      "text/plain": [
       "531                                                너무 불편해요\n",
       "15584                        아니 로그인을 꼭해야 분권한이 아니라는게 너무 싫어요\n",
       "11516                         이건 뭔경우죠 돈내고 이런식으로 노래 들어야 하나요\n",
       "3776           가끔 검색하면 없는 음악들이 있는데 그점만 보완되면 더 좋을거같네요 번창하세용\n",
       "7729                           다른 어플들은 정상 작동되는데 지니만 안되서요ㅠㅠ\n",
       "                               ...                        \n",
       "7325                                      범죄자들 노래를 듣고싶지않아요\n",
       "6458                    마이 앨범에 넣은 곡 순서는 어떻게 바꾸고 삭제는 어떻게 해요\n",
       "11904                                            지금이 일째입니다\n",
       "15812    없는노래 너무만타 일부로 여기까지와서 글남긴다 돈아까울만큼 찾는노래마다 플레이안됨 ...\n",
       "13795                                             딱 필요한 기능\n",
       "Name: document, Length: 4378, dtype: object"
      ]
     },
     "execution_count": 98,
     "metadata": {},
     "output_type": "execute_result"
    }
   ],
   "source": [
    "X_test"
   ]
  },
  {
   "cell_type": "code",
   "execution_count": 148,
   "id": "f7fb15ca",
   "metadata": {},
   "outputs": [
    {
     "data": {
      "text/plain": [
       "3"
      ]
     },
     "execution_count": 148,
     "metadata": {},
     "output_type": "execute_result"
    }
   ],
   "source": []
  },
  {
   "cell_type": "markdown",
   "id": "2ef7d00c",
   "metadata": {},
   "source": [
    "#### 데이터 분포 검증"
   ]
  },
  {
   "cell_type": "code",
   "execution_count": 167,
   "id": "6725de12",
   "metadata": {},
   "outputs": [
    {
     "data": {
      "text/plain": [
       "0        3\n",
       "1        0\n",
       "2        2\n",
       "3        0\n",
       "4        2\n",
       "        ..\n",
       "10210    3\n",
       "10211    2\n",
       "10212    2\n",
       "10213    2\n",
       "10214    2\n",
       "Length: 10215, dtype: int64"
      ]
     },
     "execution_count": 167,
     "metadata": {},
     "output_type": "execute_result"
    }
   ],
   "source": [
    "series = pd.Series([int(y_train[idx]) for idx in y_train.index])\n",
    "series"
   ]
  },
  {
   "cell_type": "code",
   "execution_count": 172,
   "id": "0ef84e30",
   "metadata": {},
   "outputs": [
    {
     "data": {
      "text/plain": [
       "[3845, 1007, 2346, 1931, 356, 730]"
      ]
     },
     "execution_count": 172,
     "metadata": {},
     "output_type": "execute_result"
    }
   ],
   "source": [
    "arr = [0, 0, 0, 0, 0, 0]\n",
    "for idx in series.index:\n",
    "    arr[series[idx]]+=1\n",
    "arr"
   ]
  },
  {
   "cell_type": "code",
   "execution_count": 175,
   "id": "625bcc11",
   "metadata": {},
   "outputs": [],
   "source": [
    "def plotAsPieChart(series):\n",
    "    series = pd.Series([int(series[idx]) for idx in series.index])\n",
    "    arr = [0, 0, 0, 0, 0, 0]\n",
    "    for idx in series.index:\n",
    "        arr[series[idx]]+=1\n",
    "    arrSeries = pd.Series(arr)\n",
    "    # xlabel = [\"단순부정\", \"앱 개발팀\", \"서비스 개발팀\", \"서비스 기획팀\", \"콘텐츠 운영팀\", \"IT 기획팀\"]\n",
    "    wedgeprops={'width': 0.7, 'edgecolor': 'w', 'linewidth': 5}\n",
    "    \n",
    "    plt.title(\"클래스 별 부정 라벨링 데이터\")\n",
    "    arrSeries.plot.pie(autopct=\"%.2f%%\", startangle=90, wedgeprops=wedgeprops)\n",
    "#    plt.pie(ratio, labels = xlabel, autopct=\"%.1f%%\", startangle=90, wedgeprops=wedgeprops)\n",
    "    plt.figure(figsize=(10,10))\n",
    "    plt.rcParams[\"figure.figsize\"] = (8,10)\n",
    "    plt.show()"
   ]
  },
  {
   "cell_type": "code",
   "execution_count": 176,
   "id": "5c665066",
   "metadata": {},
   "outputs": [
    {
     "data": {
      "image/png": "[encoded data removed]",
      "text/plain": [
       "<Figure size 576x720 with 1 Axes>"
      ]
     },
     "metadata": {},
     "output_type": "display_data"
    },
    {
     "data": {
      "text/plain": [
       "<Figure size 720x720 with 0 Axes>"
      ]
     },
     "metadata": {},
     "output_type": "display_data"
    }
   ],
   "source": [
    "plotAsPieChart(y_train)"
   ]
  },
  {
   "cell_type": "markdown",
   "id": "81646505",
   "metadata": {},
   "source": [
    "### 각 데이터셋에 대해 자연어처리"
   ]
  },
  {
   "cell_type": "code",
   "execution_count": 180,
   "id": "d02dc8f0",
   "metadata": {},
   "outputs": [],
   "source": [
    "### from sklearn.feature_extraction.text import TfidfVectorizer\n",
    "\n",
    "tfidf = TfidfVectorizer(strip_accents=None,\n",
    "                       lowercase=False,\n",
    "                       preprocessor=preprocessor,           # 각 텍스트에 대한 전처리 함수\n",
    "                       tokenizer=tokenizer_porter_kor,      # 어간 추출\n",
    "                       stop_words=stopwords_ko,             # removing stopwords\n",
    "                       max_df=0.1,                          # 한 단어가 여러 문서에 등장하는 비율; 해당 비율 이상이면 무시\n",
    "                       min_df=10)                            # 한 단어가 적어도 min_df개의 문서에는 등장하라\n",
    "\n",
    "X_train_vector = tfidf.fit_transform(X_train)\n",
    "X_test_vector = tfidf.transform(X_test)"
   ]
  },
  {
   "cell_type": "code",
   "execution_count": 181,
   "id": "ca267919",
   "metadata": {},
   "outputs": [
    {
     "data": {
      "text/plain": [
       "(10215, 1166)"
      ]
     },
     "execution_count": 181,
     "metadata": {},
     "output_type": "execute_result"
    }
   ],
   "source": [
    "# data dimension\n",
    "X_train_vector = X_train_vector.toarray()\n",
    "X_test_vector = X_test_vector.toarray()\n",
    "X_train_vector.shape"
   ]
  },
  {
   "cell_type": "code",
   "execution_count": 185,
   "id": "e6035571",
   "metadata": {},
   "outputs": [
    {
     "name": "stdout",
     "output_type": "stream",
     "text": [
      "최근 업뎃이후로 너무 불편해서 리뷰를 다 써보러 와요 \n",
      "[0. 0. 0. ... 0. 0. 0.]\n"
     ]
    }
   ],
   "source": [
    "print(X_train[1])\n",
    "print(X_train_vector[1])"
   ]
  },
  {
   "cell_type": "markdown",
   "id": "4a5a78f4",
   "metadata": {},
   "source": [
    "### Logistic Regression"
   ]
  },
  {
   "cell_type": "code",
   "execution_count": 186,
   "id": "b20814fc",
   "metadata": {},
   "outputs": [
    {
     "name": "stderr",
     "output_type": "stream",
     "text": [
      "[Parallel(n_jobs=1)]: Using backend SequentialBackend with 1 concurrent workers.\n",
      " This problem is unconstrained.\n"
     ]
    },
    {
     "name": "stdout",
     "output_type": "stream",
     "text": [
      "RUNNING THE L-BFGS-B CODE\n",
      "\n",
      "           * * *\n",
      "\n",
      "Machine precision = 2.220D-16\n",
      " N =         7002     M =           10\n",
      "\n",
      "At X0         0 variables are exactly at the bounds\n",
      "\n",
      "At iterate    0    f=  1.83028D+04    |proj g|=  2.14250D+03\n",
      "\n",
      "At iterate   50    f=  9.82713D+03    |proj g|=  1.46728D+01\n",
      "\n",
      "At iterate  100    f=  9.81302D+03    |proj g|=  9.08994D-01\n",
      "\n",
      "           * * *\n",
      "\n",
      "Tit   = total number of iterations\n",
      "Tnf   = total number of function evaluations\n",
      "Tnint = total number of segments explored during Cauchy searches\n",
      "Skip  = number of BFGS updates skipped\n",
      "Nact  = number of active bounds at final generalized Cauchy point\n",
      "Projg = norm of the final projected gradient\n",
      "F     = final function value\n",
      "\n",
      "           * * *\n",
      "\n",
      "   N    Tit     Tnf  Tnint  Skip  Nact     Projg        F\n",
      " 7002    100    112      1     0     0   9.090D-01   9.813D+03\n",
      "  F =   9813.0208494395429     \n",
      "\n",
      "STOP: TOTAL NO. of ITERATIONS REACHED LIMIT                 \n"
     ]
    },
    {
     "name": "stderr",
     "output_type": "stream",
     "text": [
      "/opt/homebrew/Caskroom/miniforge/base/envs/junho_ML/lib/python3.8/site-packages/sklearn/linear_model/_logistic.py:814: ConvergenceWarning: lbfgs failed to converge (status=1):\n",
      "STOP: TOTAL NO. of ITERATIONS REACHED LIMIT.\n",
      "\n",
      "Increase the number of iterations (max_iter) or scale the data as shown in:\n",
      "    https://scikit-learn.org/stable/modules/preprocessing.html\n",
      "Please also refer to the documentation for alternative solver options:\n",
      "    https://scikit-learn.org/stable/modules/linear_model.html#logistic-regression\n",
      "  n_iter_i = _check_optimize_result(\n",
      "[Parallel(n_jobs=1)]: Done   1 out of   1 | elapsed:    2.1s finished\n"
     ]
    },
    {
     "data": {
      "text/plain": [
       "LogisticRegression(verbose=1)"
      ]
     },
     "execution_count": 186,
     "metadata": {},
     "output_type": "execute_result"
    }
   ],
   "source": [
    "# train using Logistic Regression\n",
    "from sklearn.linear_model import LogisticRegression\n",
    "lr = LogisticRegression(penalty=\"l2\", verbose=1)\n",
    "lr.fit(X_train_vector, y_train)"
   ]
  },
  {
   "cell_type": "code",
   "execution_count": 187,
   "id": "011a6181",
   "metadata": {},
   "outputs": [
    {
     "data": {
      "text/plain": [
       "0.6860499265785609"
      ]
     },
     "execution_count": 187,
     "metadata": {},
     "output_type": "execute_result"
    }
   ],
   "source": [
    "# train score\n",
    "lr.score(X_train_vector, y_train)"
   ]
  },
  {
   "cell_type": "code",
   "execution_count": 188,
   "id": "ce1ae98c",
   "metadata": {},
   "outputs": [
    {
     "data": {
      "text/plain": [
       "0.6265417999086341"
      ]
     },
     "execution_count": 188,
     "metadata": {},
     "output_type": "execute_result"
    }
   ],
   "source": [
    "# test score\n",
    "lr.score(X_test_vector, y_test)"
   ]
  },
  {
   "cell_type": "code",
   "execution_count": 189,
   "id": "a1ebf741",
   "metadata": {},
   "outputs": [
    {
     "data": {
      "text/plain": [
       "array(['5', '1', '0'], dtype=object)"
      ]
     },
     "execution_count": 189,
     "metadata": {},
     "output_type": "execute_result"
    }
   ],
   "source": [
    "# sentiment prediction example \n",
    "reviews = [\"네트워크에 문제가 많네요\", \n",
    "          \"노래 재생이 멈췄어요\", \n",
    "          \"아이폰 사용하는데 문제가 많아요\"]\n",
    "\n",
    "reviews_tfidf = tfidf.transform(reviews)\n",
    "lr.predict(reviews_tfidf)"
   ]
  },
  {
   "cell_type": "markdown",
   "id": "17f00437",
   "metadata": {},
   "source": [
    "### Decision Tree"
   ]
  },
  {
   "cell_type": "code",
   "execution_count": 190,
   "id": "0442329d",
   "metadata": {},
   "outputs": [
    {
     "data": {
      "text/plain": [
       "DecisionTreeClassifier(max_depth=20)"
      ]
     },
     "execution_count": 190,
     "metadata": {},
     "output_type": "execute_result"
    }
   ],
   "source": [
    "# train using Decision Tree\n",
    "from sklearn.tree import DecisionTreeClassifier\n",
    "tree = DecisionTreeClassifier(max_depth=20)\n",
    "tree.fit(X_train_vector, y_train)"
   ]
  },
  {
   "cell_type": "code",
   "execution_count": 191,
   "id": "1d44c30a",
   "metadata": {},
   "outputs": [
    {
     "data": {
      "text/plain": [
       "0.6834067547723935"
      ]
     },
     "execution_count": 191,
     "metadata": {},
     "output_type": "execute_result"
    }
   ],
   "source": [
    "# train score\n",
    "tree.score(X_train_vector, y_train)"
   ]
  },
  {
   "cell_type": "code",
   "execution_count": 192,
   "id": "3224542e",
   "metadata": {},
   "outputs": [
    {
     "data": {
      "text/plain": [
       "0.5395157606212883"
      ]
     },
     "execution_count": 192,
     "metadata": {},
     "output_type": "execute_result"
    }
   ],
   "source": [
    "# test score\n",
    "tree.score(X_test_vector, y_test)"
   ]
  },
  {
   "cell_type": "code",
   "execution_count": 193,
   "id": "3dc181fc",
   "metadata": {},
   "outputs": [
    {
     "name": "stdout",
     "output_type": "stream",
     "text": [
      " 1. ['네트워크']                       0.152822\n",
      " 2. ['로그인']                        0.063473\n",
      " 3. ['기능']                         0.054398\n",
      " 4. ['좋다']                         0.039723\n",
      " 5. ['곡']                          0.035152\n",
      " 6. ['끊기다']                        0.026973\n",
      " 7. ['계속']                         0.021479\n",
      " 8. ['목록']                         0.021461\n",
      " 9. ['연결']                         0.018191\n",
      "10. ['업데이트']                       0.018136\n"
     ]
    }
   ],
   "source": [
    "# finding most important terms\n",
    "importances = tree.feature_importances_\n",
    "indices = np.argsort(importances)[::-1]\n",
    "\n",
    "for f in range(10):\n",
    "    print(\"%2d. %-30s %f\" % (f+1, \n",
    "                             [w for w, n in tfidf.vocabulary_.items() if n == indices[f]],\n",
    "                             importances[indices[f]]))"
   ]
  },
  {
   "cell_type": "markdown",
   "id": "152c89b0",
   "metadata": {},
   "source": [
    "### 정확도 개선하기\n",
    "- ngram 범위를 늘려주면?"
   ]
  },
  {
   "cell_type": "code",
   "execution_count": 194,
   "id": "c2ddbcc2",
   "metadata": {},
   "outputs": [
    {
     "name": "stderr",
     "output_type": "stream",
     "text": [
      "/opt/homebrew/Caskroom/miniforge/base/envs/junho_ML/lib/python3.8/site-packages/sklearn/feature_extraction/text.py:396: UserWarning: Your stop_words may be inconsistent with your preprocessing. Tokenizing the stop words generated tokens ['가다', '각하', '간', '갖다', '개', '거나', '거리', '걸', '겁', '것과', '견지', '결과', '결론', '고려', '곤', '곳', '공동', '관', '관계', '관련', '구체', '구토', '그러하다', '그런', '그렇게', '그렇다', '그치다', '근거', '기대', '기점', '기준', '김', '까닭', '나머지', '남', '낫다', '낼', '년도', '논', '누가', '는', '다', '다르다', '다시', '달다', '답', '대로', '대하', '대해', '더', '더불다', '더욱이', '도', '도달', '도착', '동시', '돼다', '되다', '되어다', '두번째', '뒤', '뒤따르다', '든', '든지', '들다', '듯', '따다', '따르다', '따름', '때문', '라', '라도', '라면', '리하', '마자', '막론', '만', '만으로', '만은', '만이', '만하', '많다', '말', '말다', '망정', '메', '면', '모르다', '몰랏다', '못', '무릎', '미치다', '바', '바꾸다', '밖에', '반대', '방면', '번째', '보다', '보아', '본대', '부류', '불구', '불문', '비', '비걱거리', '비교', '비기다', '비추다', '뿐', '사람', '상대', '생각', '서', '서술', '수', '시오', '시작', '시초', '쓰다', '쓰이다', '아니다', '아래', '아무', '아우르다', '안', '안다', '안되다', '않다', '알', '알다', '앞', '어기', '어떠하다', '어떻다', '어쨋', '어쩔', '없다', '에도', '에야', '여보', '여전하다', '연', '연관', '옆', '오다', '외', '요', '요만', '우', '울다', '위', '위해', '윗', '은', '의거', '의지', '의치', '의하다', '이다', '이러하다', '이렇게', '이렇다', '이로', '이르다', '이서', '이외', '이용', '이유', '인', '인하다', '일반', '일지', '임', '입', '입다', '입장', '잇따르다', '적', '점', '정도', '제외', '젠', '종합', '좋다', '주저', '줄', '중', '즈음', '지', '지경', '지다', '진짜', '집', '쪽', '차', '차다', '첫', '총', '켜다', '크다', '토', '통', '틀림없다', '틈타다', '편이', '하고', '하다', '하든', '하자', '한', '한적', '함', '항목', '해', '해도', '해보다', '향', '허다', '형식', '후', '힘'] not in stop_words.\n",
      "  warnings.warn(\n"
     ]
    }
   ],
   "source": [
    "### from sklearn.feature_extraction.text import TfidfVectorizer\n",
    "\n",
    "tfidf = TfidfVectorizer(strip_accents=None,\n",
    "                       lowercase=False,\n",
    "                       preprocessor=preprocessor,           # 각 텍스트에 대한 전처리 함수\n",
    "                       tokenizer=tokenizer_porter_kor,      # 어간 추출\n",
    "                       stop_words=stopwords_ko,             # removing stopwords\n",
    "                       ngram_range=(1,4),\n",
    "                       max_df=0.1,                          # 한 단어가 여러 문서에 등장하는 비율; 해당 비율 이상이면 무시\n",
    "                       min_df=10)                            # 한 단어가 적어도 min_df개의 문서에는 등장하라\n",
    "\n",
    "X_train_vector = tfidf.fit_transform(X_train)\n",
    "X_test_vector = tfidf.transform(X_test)"
   ]
  },
  {
   "cell_type": "markdown",
   "id": "526766ab",
   "metadata": {},
   "source": [
    "### Logistic Regression"
   ]
  },
  {
   "cell_type": "code",
   "execution_count": 213,
   "id": "c4d8d260",
   "metadata": {},
   "outputs": [
    {
     "name": "stderr",
     "output_type": "stream",
     "text": [
      "[Parallel(n_jobs=1)]: Using backend SequentialBackend with 1 concurrent workers.\n",
      " This problem is unconstrained.\n"
     ]
    },
    {
     "name": "stdout",
     "output_type": "stream",
     "text": [
      "RUNNING THE L-BFGS-B CODE\n",
      "\n",
      "           * * *\n",
      "\n",
      "Machine precision = 2.220D-16\n",
      " N =        16434     M =           10\n",
      "\n",
      "At X0         0 variables are exactly at the bounds\n",
      "\n",
      "At iterate    0    f=  1.83028D+04    |proj g|=  2.14250D+03\n",
      "\n",
      "At iterate   50    f=  9.69176D+03    |proj g|=  3.51740D+01\n",
      "\n",
      "At iterate  100    f=  9.67626D+03    |proj g|=  1.12137D+00\n",
      "\n",
      "           * * *\n",
      "\n",
      "Tit   = total number of iterations\n",
      "Tnf   = total number of function evaluations\n",
      "Tnint = total number of segments explored during Cauchy searches\n",
      "Skip  = number of BFGS updates skipped\n",
      "Nact  = number of active bounds at final generalized Cauchy point\n",
      "Projg = norm of the final projected gradient\n",
      "F     = final function value\n",
      "\n",
      "           * * *\n",
      "\n",
      "   N    Tit     Tnf  Tnint  Skip  Nact     Projg        F\n",
      "16434    100    108      1     0     0   1.121D+00   9.676D+03\n",
      "  F =   9676.2573977097927     \n",
      "\n",
      "STOP: TOTAL NO. of ITERATIONS REACHED LIMIT                 \n"
     ]
    },
    {
     "name": "stderr",
     "output_type": "stream",
     "text": [
      "/opt/homebrew/Caskroom/miniforge/base/envs/junho_ML/lib/python3.8/site-packages/sklearn/linear_model/_logistic.py:814: ConvergenceWarning: lbfgs failed to converge (status=1):\n",
      "STOP: TOTAL NO. of ITERATIONS REACHED LIMIT.\n",
      "\n",
      "Increase the number of iterations (max_iter) or scale the data as shown in:\n",
      "    https://scikit-learn.org/stable/modules/preprocessing.html\n",
      "Please also refer to the documentation for alternative solver options:\n",
      "    https://scikit-learn.org/stable/modules/linear_model.html#logistic-regression\n",
      "  n_iter_i = _check_optimize_result(\n",
      "[Parallel(n_jobs=1)]: Done   1 out of   1 | elapsed:    0.4s finished\n"
     ]
    },
    {
     "data": {
      "text/plain": [
       "LogisticRegression(random_state=1, verbose=1)"
      ]
     },
     "execution_count": 213,
     "metadata": {},
     "output_type": "execute_result"
    }
   ],
   "source": [
    "# train using Logistic Regression\n",
    "from sklearn.linear_model import LogisticRegression\n",
    "lr = LogisticRegression(penalty=\"l2\", verbose=1, random_state=1)\n",
    "lr.fit(X_train_vector, y_train)"
   ]
  },
  {
   "cell_type": "code",
   "execution_count": 214,
   "id": "43c3c1df",
   "metadata": {},
   "outputs": [
    {
     "data": {
      "text/plain": [
       "0.716789035731767"
      ]
     },
     "execution_count": 214,
     "metadata": {},
     "output_type": "execute_result"
    }
   ],
   "source": [
    "# train score\n",
    "lr.score(X_train_vector, y_train)"
   ]
  },
  {
   "cell_type": "code",
   "execution_count": 215,
   "id": "ede8c159",
   "metadata": {},
   "outputs": [
    {
     "data": {
      "text/plain": [
       "0.6231155778894473"
      ]
     },
     "execution_count": 215,
     "metadata": {},
     "output_type": "execute_result"
    }
   ],
   "source": [
    "# test score\n",
    "lr.score(X_test_vector, y_test)"
   ]
  },
  {
   "cell_type": "code",
   "execution_count": 232,
   "id": "d12cda72",
   "metadata": {},
   "outputs": [
    {
     "data": {
      "text/plain": [
       "array(['5', '1', '0', '1', '0', '3', '0', '0', '3', '0', '4', '0'],\n",
       "      dtype=object)"
      ]
     },
     "execution_count": 232,
     "metadata": {},
     "output_type": "execute_result"
    }
   ],
   "source": [
    "# sentiment prediction example \n",
    "reviews = [\"네트워크에 문제가 많네요\", \n",
    "          \"노래 재생이 멈췄어요\", \n",
    "          \"아이폰 사용하는데 문제가 많아요\",\n",
    "          \"아이폰에서 작동이 안되요\",\n",
    "          \"이걸 왜 만듬?\",\n",
    "          \"내가 만들어도 잘 만들듯ㅋ\",\n",
    "          \"유투브 뮤직 쓸거에요\",\n",
    "          \"이용권 결제했는데 제대로 반영이 안되었어요\",\n",
    "          \"다크모드가 안보여서 불편해요\",\n",
    "          \"UI가 구려요\",\n",
    "          \"노래 좀 추가해주세요\",\n",
    "          \"노래가 별로 없어요\"]\n",
    "\n",
    "reviews_tfidf = tfidf.transform(reviews)\n",
    "lr.predict(reviews_tfidf)"
   ]
  },
  {
   "cell_type": "markdown",
   "id": "122cd99f",
   "metadata": {},
   "source": [
    "### Decision Tree"
   ]
  },
  {
   "cell_type": "code",
   "execution_count": 212,
   "id": "9812678b",
   "metadata": {},
   "outputs": [
    {
     "data": {
      "text/plain": [
       "DecisionTreeClassifier(max_depth=20)"
      ]
     },
     "execution_count": 212,
     "metadata": {},
     "output_type": "execute_result"
    }
   ],
   "source": [
    "# train using Decision Tree\n",
    "from sklearn.tree import DecisionTreeClassifier\n",
    "tree = DecisionTreeClassifier(max_depth=20)\n",
    "tree.fit(X_train_vector, y_train)"
   ]
  },
  {
   "cell_type": "code",
   "execution_count": 201,
   "id": "05bac017",
   "metadata": {},
   "outputs": [
    {
     "data": {
      "text/plain": [
       "0.6850709740577582"
      ]
     },
     "execution_count": 201,
     "metadata": {},
     "output_type": "execute_result"
    }
   ],
   "source": [
    "# train score\n",
    "tree.score(X_train_vector, y_train)"
   ]
  },
  {
   "cell_type": "code",
   "execution_count": 202,
   "id": "f6298c38",
   "metadata": {},
   "outputs": [
    {
     "data": {
      "text/plain": [
       "0.5509365006852444"
      ]
     },
     "execution_count": 202,
     "metadata": {},
     "output_type": "execute_result"
    }
   ],
   "source": [
    "# test score\n",
    "tree.score(X_test_vector, y_test)"
   ]
  },
  {
   "cell_type": "code",
   "execution_count": 203,
   "id": "d0a1a2d2",
   "metadata": {},
   "outputs": [
    {
     "name": "stdout",
     "output_type": "stream",
     "text": [
      " 1. ['네트워크']                       0.151391\n",
      " 2. ['로그인']                        0.065791\n",
      " 3. ['기능']                         0.054982\n",
      " 4. ['좋다']                         0.039841\n",
      " 5. ['곡']                          0.035713\n",
      " 6. ['끊기다']                        0.029427\n",
      " 7. ['목록']                         0.023072\n",
      " 8. ['업데이트']                       0.020936\n",
      " 9. ['계속']                         0.018036\n",
      "10. ['연결']                         0.017915\n"
     ]
    }
   ],
   "source": [
    "# finding most important terms\n",
    "importances = tree.feature_importances_\n",
    "indices = np.argsort(importances)[::-1]\n",
    "\n",
    "for f in range(10):\n",
    "    print(\"%2d. %-30s %f\" % (f+1, \n",
    "                             [w for w, n in tfidf.vocabulary_.items() if n == indices[f]],\n",
    "                             importances[indices[f]]))"
   ]
  }
 ],
 "metadata": {
  "kernelspec": {
   "display_name": "Python 3 (ipykernel)",
   "language": "python",
   "name": "python3"
  },
  "language_info": {
   "codemirror_mode": {
    "name": "ipython",
    "version": 3
   },
   "file_extension": ".py",
   "mimetype": "text/x-python",
   "name": "python",
   "nbconvert_exporter": "python",
   "pygments_lexer": "ipython3",
   "version": "3.8.10"
  },
  "toc": {
   "base_numbering": 1,
   "nav_menu": {},
   "number_sections": false,
   "sideBar": true,
   "skip_h1_title": false,
   "title_cell": "Table of Contents",
   "title_sidebar": "Contents",
   "toc_cell": false,
   "toc_position": {},
   "toc_section_display": true,
   "toc_window_display": true
  }
 },
 "nbformat": 4,
 "nbformat_minor": 5
}
