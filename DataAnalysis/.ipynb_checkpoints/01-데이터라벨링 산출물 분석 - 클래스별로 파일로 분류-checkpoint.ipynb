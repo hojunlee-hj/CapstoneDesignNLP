{
 "cells": [
  {
   "cell_type": "markdown",
   "id": "453eb67a",
   "metadata": {},
   "source": [
    "# 데이터 라벨링 산출물 분석\n",
    "- 라벨링된 클래스 별로 csv파일로 분류하기"
   ]
  },
  {
   "cell_type": "markdown",
   "id": "0c74925a",
   "metadata": {},
   "source": [
    "### 데이터셋 로드\n",
    "- data/Dataset_221127.csv 파일 로드 "
   ]
  },
  {
   "cell_type": "code",
   "execution_count": 6,
   "id": "dba24fc4",
   "metadata": {},
   "outputs": [],
   "source": [
    "import numpy as np\n",
    "import pandas as pd\n",
    "\n",
    "dataset = pd.read_csv('../data/Dataset_221127.csv', index_col = 'id')\n",
    "\n",
    "# 현재 0~12500, 14001~ 까지 라벨링됨\n",
    "valid_class = ['0', '1', '2', '3', '4', '5']\n",
    "df_labeled = pd.merge(dataset.iloc[0:12501], dataset.iloc[14001:], how='outer')\n",
    "df_positive = df_labeled[(df_labeled[\"label\"] == 1) & (df_labeled[\"label2\"] == '-1')]\n",
    "df_negative = df_labeled[(df_labeled[\"label\"] == 0) & (df_labeled[\"label2\"].isin(valid_class))]"
   ]
  },
  {
   "cell_type": "code",
   "execution_count": 77,
   "id": "2d0d6c2c",
   "metadata": {},
   "outputs": [],
   "source": [
    "import numpy as np\n",
    "import pandas as pd\n",
    "\n",
    "class LabeledClassToCsv:\n",
    "    valid_class = ['0', '1', '2', '3', '4', '5']\n",
    "    \n",
    "    def __init__(self, filePath, index_col = 'id', isLabelDone = False):\n",
    "        self.dataset = pd.read_csv(filePath, index_col=index_col)\n",
    "        if not isLabelDone:\n",
    "            self.df_negative = self.getOutterNegatives(0, 12501, 14001)\n",
    "        else:\n",
    "            self.df_negative = self.getAllNegatives()\n",
    "\n",
    "    def getOutterNegatives(self, leftFrom, leftTo, rightFrom):\n",
    "        df_labeled = pd.merge(self.dataset.iloc[leftFrom:leftTo], self.dataset.iloc[rightFrom:], how='outer')\n",
    "        return df_labeled[(df_labeled[\"label\"] == 0) & (df_labeled[\"label2\"].isin(valid_class))]\n",
    "    \n",
    "    def getAllNegatives(self):\n",
    "        return self.dataset[(self.dataset[\"label\"] == 0) & (self.dataset[\"label2\"].isin(valid_class))]\n",
    "    \n",
    "    \"\"\"\n",
    "        csv파일로 저장하는 부분\n",
    "    \"\"\"\n",
    "    def saveAsCsv(self, class_no:str, filePath, encoding=\"utf-8-sig\"):\n",
    "        df_target = self.df_negative[(self.df_negative[\"label\"] == 0) & (self.df_negative[\"label2\"] == class_no)]\n",
    "        try:\n",
    "            # df_target.to_excel(excel_writer=fileName, encoding=\"utf-8\")\n",
    "            df_target.to_csv(filePath, encoding=encoding)\n",
    "        except Exception as e:\n",
    "            print(\"[DEBUG] : Failed saving Pandas DataFrames as Excel file\", e)\n",
    "\n",
    "    def saveAllAsCsv(self, filePath):\n",
    "        fileType = \".csv\"\n",
    "        for class_no in valid_class:\n",
    "            self.saveAsCsv(class_no, filePath + class_no + fileType)\n",
    "        print(\"[INFO] : Saved All valid cass as csv files\")"
   ]
  },
  {
   "cell_type": "code",
   "execution_count": 78,
   "id": "7ca7537d",
   "metadata": {},
   "outputs": [
    {
     "name": "stdout",
     "output_type": "stream",
     "text": [
      "[INFO] : Saved All valid cass as csv files\n"
     ]
    }
   ],
   "source": [
    "filePath = '../data/Dataset_221127.csv'\n",
    "stat = LabeledClassToCsv(filePath)\n",
    "stat.saveAllAsCsv(\"labeled\")"
   ]
  }
 ],
 "metadata": {
  "kernelspec": {
   "display_name": "Python 3 (ipykernel)",
   "language": "python",
   "name": "python3"
  },
  "language_info": {
   "codemirror_mode": {
    "name": "ipython",
    "version": 3
   },
   "file_extension": ".py",
   "mimetype": "text/x-python",
   "name": "python",
   "nbconvert_exporter": "python",
   "pygments_lexer": "ipython3",
   "version": "3.8.10"
  },
  "toc": {
   "base_numbering": 1,
   "nav_menu": {},
   "number_sections": true,
   "sideBar": true,
   "skip_h1_title": false,
   "title_cell": "Table of Contents",
   "title_sidebar": "Contents",
   "toc_cell": false,
   "toc_position": {},
   "toc_section_display": true,
   "toc_window_display": false
  }
 },
 "nbformat": 4,
 "nbformat_minor": 5
}
